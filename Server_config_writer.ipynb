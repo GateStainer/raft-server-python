{
 "cells": [
  {
   "cell_type": "code",
   "execution_count": 28,
   "metadata": {},
   "outputs": [],
   "source": [
    "# request_timeout 50\n",
    "# election_timeout, 300\n",
    "# key_size, 1048576\n",
    "# value_size, 1048576\n",
    "# process_limits, 10\n",
    "import json\n",
    "def server_config_writer(name = \"server-config.txt\", req_to = 50, ele_to = 300, \n",
    "                         key_size = 1048576, val_size = 1048576, proc_limits= 10):\n",
    "    d = {\"request_timeout\":req_to, \"election_timeout\": ele_to, \"key_size\": key_size, \n",
    "         \"value_size\": val_size, \"process_limits\": proc_limits}\n",
    "    json.dump(d, open(name,'w'))"
   ]
  },
  {
   "cell_type": "code",
   "execution_count": 31,
   "metadata": {},
   "outputs": [
    {
     "name": "stdout",
     "output_type": "stream",
     "text": [
      "50\n"
     ]
    }
   ],
   "source": [
    "server_config_writer()\n",
    "d2 = json.load(open(\"server-config.txt\"))\n",
    "print(d2[\"request_timeout\"])"
   ]
  },
  {
   "cell_type": "code",
   "execution_count": null,
   "metadata": {},
   "outputs": [],
   "source": []
  }
 ],
 "metadata": {
  "kernelspec": {
   "display_name": "Python 3",
   "language": "python",
   "name": "python3"
  },
  "language_info": {
   "codemirror_mode": {
    "name": "ipython",
    "version": 3
   },
   "file_extension": ".py",
   "mimetype": "text/x-python",
   "name": "python",
   "nbconvert_exporter": "python",
   "pygments_lexer": "ipython3",
   "version": "3.6.8"
  }
 },
 "nbformat": 4,
 "nbformat_minor": 2
}
